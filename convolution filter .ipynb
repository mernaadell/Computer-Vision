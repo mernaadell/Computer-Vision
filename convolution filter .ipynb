{
  "nbformat": 4,
  "nbformat_minor": 0,
  "metadata": {
    "colab": {
      "name": "assignmnet1",
      "provenance": [],
      "collapsed_sections": [],
      "authorship_tag": "ABX9TyN9DKauEJaX76f1fEBzuo8Q",
      "include_colab_link": true
    },
    "kernelspec": {
      "name": "python3",
      "display_name": "Python 3"
    }
  },
  "cells": [
    {
      "cell_type": "markdown",
      "metadata": {
        "id": "view-in-github",
        "colab_type": "text"
      },
      "source": [
        "<a href=\"https://colab.research.google.com/github/mernaadell/Computer-Vision/blob/master/convolution%20filter%20.ipynb\" target=\"_parent\"><img src=\"https://colab.research.google.com/assets/colab-badge.svg\" alt=\"Open In Colab\"/></a>"
      ]
    },
    {
      "cell_type": "code",
      "metadata": {
        "id": "dWcEymaSglhw",
        "colab_type": "code",
        "outputId": "5edb865e-7939-4d95-a6c6-c5b773530478",
        "colab": {
          "base_uri": "https://localhost:8080/",
          "height": 315
        }
      },
      "source": [
        "import numpy as np \n",
        "import matplotlib.pyplot as plt \n",
        "\n",
        "# let img1 be an image with no features \n",
        "img = np.array([ 6,3,1,3,3,3,2,1,0,0,0]) #2 zeros's for padding\n",
        "kernel = np.array([1,2,1] ) \n",
        "step=0\n",
        "\n",
        "plt.plot(img,\"*\") # plot img in axis\n",
        "plt.title('plotting')\n",
        "plt.show\n",
        "\n",
        "def apply_kernel(img, kernel): \n",
        "    return np.sum(np.multiply(img, kernel)) \n",
        "\n",
        "for i in range (len(img)):\n",
        "  if(step>=len(img)-3):break\n",
        "  img[step] =apply_kernel(img[0+step:3+step], kernel) \n",
        "  step=step+1\n",
        "  \n",
        "print(img[0:len(img)-2])\n",
        "\n",
        "plt.plot(img[0:len(img)-2],\".\") # plot new img in axis\n",
        "plt.title('plotting')\n",
        "plt.show"
      ],
      "execution_count": 0,
      "outputs": [
        {
          "output_type": "stream",
          "text": [
            "[13  8 10 12 11  8  4  1  0]\n"
          ],
          "name": "stdout"
        },
        {
          "output_type": "execute_result",
          "data": {
            "text/plain": [
              "<function matplotlib.pyplot.show>"
            ]
          },
          "metadata": {
            "tags": []
          },
          "execution_count": 46
        },
        {
          "output_type": "display_data",
          "data": {
            "image/png": "[encoded data removed]",
            "text/plain": [
              "<Figure size 432x288 with 1 Axes>"
            ]
          },
          "metadata": {
            "tags": [],
            "needs_background": "light"
          }
        }
      ]
    },
    {
      "cell_type": "code",
      "metadata": {
        "id": "nXTz0WhriRHO",
        "colab_type": "code",
        "colab": {}
      },
      "source": [
        ""
      ],
      "execution_count": 0,
      "outputs": []
    }
  ]
}